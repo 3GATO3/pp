{
 "cells": [
  {
   "cell_type": "code",
   "execution_count": 68,
   "id": "0cb41ef8",
   "metadata": {},
   "outputs": [
    {
     "name": "stdout",
     "output_type": "stream",
     "text": [
      "User's 'AppData' directory: C:\\Users\\USSTPLPT07\\AppData\\Roaming\n",
      "Conda environment 'AppData' directory: C:\\Users\\USSTPLPT07\\anaconda3\\envs\\projectZero\\AppData\n"
     ]
    }
   ],
   "source": [
    "import os\n",
    "\n",
    "appdata_dir = os.getenv('APPDATA')\n",
    "conda_env_dir = os.getenv('CONDA_PREFIX')\n",
    "\n",
    "# Construct the path to the \"AppData\" directory within the Conda environment\n",
    "conda_appdata_dir = os.path.join(conda_env_dir, 'AppData')\n",
    "\n",
    "print(f\"User's 'AppData' directory: {appdata_dir}\")\n",
    "print(f\"Conda environment 'AppData' directory: {conda_appdata_dir}\")"
   ]
  },
  {
   "cell_type": "code",
   "execution_count": 69,
   "id": "bf624aa8",
   "metadata": {},
   "outputs": [
    {
     "name": "stdout",
     "output_type": "stream",
     "text": [
      "[['ID', 'ALUMNO', 'Act', 'Pro', 'Act', 'Pro', 'Act', 'Pro', 'Bitacora', 'Promedio'], ['67ca0275', 'Alumno 272', '0', '#DIV/0!', '0', '', '0', '', '0', '#DIV/0!'], ['67ca0276', 'Alumno 273', '0', '#DIV/0!', '0', '', '0', '', '0', '#DIV/0!'], ['67ca0277', 'Alumno 274', '0', '#DIV/0!', '0', '', '0', '', '0', '#DIV/0!'], ['67ca0278', 'Alumno 275', '0', '#DIV/0!', '0', '', '0', '', '0', '#DIV/0!'], ['67ca0279', 'Alumno 276', '0', '#DIV/0!', '0', '', '0', '', '0', '#DIV/0!'], ['67ca0344', 'Alumno 277', '0', '#DIV/0!', '0', '', '0', '', '0', '#DIV/0!'], ['67ca0280', 'Alumno 278', '0', '#DIV/0!', '0', '', '0', '', '0', '#DIV/0!'], ['67ca0345', 'Alumno 279', '0', '#DIV/0!', '0', '', '0', '', '0', '#DIV/0!'], ['65605b64', 'Alumno 280', '0', '#DIV/0!', '0', '', '0', '', '0', '#DIV/0!'], ['67ca0347', 'Alumno 281', '0', '#DIV/0!', '0', '', '0', '', '0', '#DIV/0!'], ['67ca0346', 'Alumno 282', '0', '#DIV/0!', '0', '', '0', '', '0', '#DIV/0!'], ['41ebb755', 'Alumno 283', '0', '#DIV/0!', '0', '', '0', '', '0', '#DIV/0!'], ['15351a39', 'Alumno 284', '0', '#DIV/0!', '0', '', '0', '', '0', '#DIV/0!'], ['67ca0282', 'Alumno 285', '0', '#DIV/0!', '0', '', '0', '', '0', '#DIV/0!'], ['67ca0283', 'Alumno 286', '0', '#DIV/0!', '0', '', '0', '', '0', '#DIV/0!'], ['67ca0285', 'Alumno 287', '0', '#DIV/0!', '0', '', '0', '', '0', '#DIV/0!'], ['67ca0286', 'Alumno 288', '0', '#DIV/0!', '0', '', '0', '', '0', '#DIV/0!'], ['67ca0287', 'Alumno 289', '0', '#DIV/0!', '0', '', '0', '', '0', '#DIV/0!'], ['67ca0348', 'Alumno 290', '0', '#DIV/0!', '0', '', '0', '', '0', '#DIV/0!'], ['67ca0288', 'Alumno 291', '0', '#DIV/0!', '0', '', '0', '', '0', '#DIV/0!'], ['67ca0289', 'Alumno 292', '0', '#DIV/0!', '0', '', '0', '', '0', '#DIV/0!'], ['67ca0290', 'Alumno 293', '0', '#DIV/0!', '0', '', '0', '', '0', '#DIV/0!'], ['67ca0349', 'Alumno 294', '0', '#DIV/0!', '0', '', '0', '', '0', '#DIV/0!'], ['67ca0291', 'Alumno 295', '0', '#DIV/0!', '0', '', '0', '', '0', '#DIV/0!'], ['67ca0292', 'Alumno 296', '0', '#DIV/0!', '0', '', '0', '', '0', '#DIV/0!'], ['67ca0293', 'Alumno 297', '0', '#DIV/0!', '0', '', '0', '', '0', '#DIV/0!'], ['67ca0295', 'Alumno 298', '0', '#DIV/0!', '0', '', '0', '', '0', '#DIV/0!'], ['de759858', 'Alumno 299', '0', '#DIV/0!', '0', '', '0', '', '0', '#DIV/0!'], ['67ca0297', 'Alumno 300', '0', '#DIV/0!', '0', '', '0', '', '0', '#DIV/0!'], ['67ca0298', 'Alumno 301', '0', '#DIV/0!', '0', '', '0', '', '0', '#DIV/0!'], ['67ca0299', 'Alumno 302', '0', '#DIV/0!', '0', '', '0', '', '0', '#DIV/0!'], ['67ca0300', 'Alumno 303', '0', '#DIV/0!', '0', '', '0', '', '0', '#DIV/0!'], ['be3ab010', 'Alumno 304', '0', '#DIV/0!', '0', '', '0', '', '0', '#DIV/0!'], ['67ca0301', 'Alumno 305', '0', '#DIV/0!', '0', '', '0', '', '0', '#DIV/0!'], ['67ca0350', 'Alumno 306', '0', '#DIV/0!', '0', '', '0', '', '0', '#DIV/0!'], ['67ca0302', 'Alumno 307', '0', '#DIV/0!', '0', '', '0', '', '0', '#DIV/0!'], ['67ca0303', 'Alumno 308', '0', '#DIV/0!', '0', '', '0', '', '0', '#DIV/0!'], ['67ca0351', 'Alumno 309', '0', '#DIV/0!', '0', '', '0', '', '0', '#DIV/0!'], ['67ca0305', 'Alumno 310', '0', '#DIV/0!', '0', '', '0', '', '0', '#DIV/0!'], ['67ca0306', 'Alumno 311', '0', '#DIV/0!', '0', '', '0', '', '0', '#DIV/0!']]\n"
     ]
    }
   ],
   "source": [
    "import gspread\n",
    "\n",
    "spreadsheetName = 'Copia de Control 2020 Test'\n",
    "\n",
    "\n",
    "gc = gspread.oauth()\n",
    "sh = gc.open(spreadsheetName)\n",
    "print(sh.sheet1.get('A9:J49'))"
   ]
  },
  {
   "cell_type": "code",
   "execution_count": 70,
   "id": "3c78c2b9",
   "metadata": {},
   "outputs": [],
   "source": [
    "import pandas as pd"
   ]
  },
  {
   "cell_type": "code",
   "execution_count": 71,
   "id": "250192f9",
   "metadata": {},
   "outputs": [],
   "source": [
    "t= sh.sheet1.get('A9:J49')\n",
    "t2= pd.DataFrame(t[1:], columns=t[0])"
   ]
  },
  {
   "cell_type": "code",
   "execution_count": 72,
   "id": "c4460e2d",
   "metadata": {},
   "outputs": [
    {
     "name": "stdout",
     "output_type": "stream",
     "text": [
      "          ID      ALUMNO Act      Pro Act Pro Act Pro Bitacora Promedio\n",
      "0   67ca0275  Alumno 272   0  #DIV/0!   0       0            0  #DIV/0!\n",
      "1   67ca0276  Alumno 273   0  #DIV/0!   0       0            0  #DIV/0!\n",
      "2   67ca0277  Alumno 274   0  #DIV/0!   0       0            0  #DIV/0!\n",
      "3   67ca0278  Alumno 275   0  #DIV/0!   0       0            0  #DIV/0!\n",
      "4   67ca0279  Alumno 276   0  #DIV/0!   0       0            0  #DIV/0!\n",
      "5   67ca0344  Alumno 277   0  #DIV/0!   0       0            0  #DIV/0!\n",
      "6   67ca0280  Alumno 278   0  #DIV/0!   0       0            0  #DIV/0!\n",
      "7   67ca0345  Alumno 279   0  #DIV/0!   0       0            0  #DIV/0!\n",
      "8   65605b64  Alumno 280   0  #DIV/0!   0       0            0  #DIV/0!\n",
      "9   67ca0347  Alumno 281   0  #DIV/0!   0       0            0  #DIV/0!\n",
      "10  67ca0346  Alumno 282   0  #DIV/0!   0       0            0  #DIV/0!\n",
      "11  41ebb755  Alumno 283   0  #DIV/0!   0       0            0  #DIV/0!\n",
      "12  15351a39  Alumno 284   0  #DIV/0!   0       0            0  #DIV/0!\n",
      "13  67ca0282  Alumno 285   0  #DIV/0!   0       0            0  #DIV/0!\n",
      "14  67ca0283  Alumno 286   0  #DIV/0!   0       0            0  #DIV/0!\n",
      "15  67ca0285  Alumno 287   0  #DIV/0!   0       0            0  #DIV/0!\n",
      "16  67ca0286  Alumno 288   0  #DIV/0!   0       0            0  #DIV/0!\n",
      "17  67ca0287  Alumno 289   0  #DIV/0!   0       0            0  #DIV/0!\n",
      "18  67ca0348  Alumno 290   0  #DIV/0!   0       0            0  #DIV/0!\n",
      "19  67ca0288  Alumno 291   0  #DIV/0!   0       0            0  #DIV/0!\n",
      "20  67ca0289  Alumno 292   0  #DIV/0!   0       0            0  #DIV/0!\n",
      "21  67ca0290  Alumno 293   0  #DIV/0!   0       0            0  #DIV/0!\n",
      "22  67ca0349  Alumno 294   0  #DIV/0!   0       0            0  #DIV/0!\n",
      "23  67ca0291  Alumno 295   0  #DIV/0!   0       0            0  #DIV/0!\n",
      "24  67ca0292  Alumno 296   0  #DIV/0!   0       0            0  #DIV/0!\n",
      "25  67ca0293  Alumno 297   0  #DIV/0!   0       0            0  #DIV/0!\n",
      "26  67ca0295  Alumno 298   0  #DIV/0!   0       0            0  #DIV/0!\n",
      "27  de759858  Alumno 299   0  #DIV/0!   0       0            0  #DIV/0!\n",
      "28  67ca0297  Alumno 300   0  #DIV/0!   0       0            0  #DIV/0!\n",
      "29  67ca0298  Alumno 301   0  #DIV/0!   0       0            0  #DIV/0!\n",
      "30  67ca0299  Alumno 302   0  #DIV/0!   0       0            0  #DIV/0!\n",
      "31  67ca0300  Alumno 303   0  #DIV/0!   0       0            0  #DIV/0!\n",
      "32  be3ab010  Alumno 304   0  #DIV/0!   0       0            0  #DIV/0!\n",
      "33  67ca0301  Alumno 305   0  #DIV/0!   0       0            0  #DIV/0!\n",
      "34  67ca0350  Alumno 306   0  #DIV/0!   0       0            0  #DIV/0!\n",
      "35  67ca0302  Alumno 307   0  #DIV/0!   0       0            0  #DIV/0!\n",
      "36  67ca0303  Alumno 308   0  #DIV/0!   0       0            0  #DIV/0!\n",
      "37  67ca0351  Alumno 309   0  #DIV/0!   0       0            0  #DIV/0!\n",
      "38  67ca0305  Alumno 310   0  #DIV/0!   0       0            0  #DIV/0!\n",
      "39  67ca0306  Alumno 311   0  #DIV/0!   0       0            0  #DIV/0!\n"
     ]
    }
   ],
   "source": [
    "print(t2)"
   ]
  },
  {
   "cell_type": "code",
   "execution_count": 73,
   "id": "11643ab8",
   "metadata": {},
   "outputs": [
    {
     "name": "stdout",
     "output_type": "stream",
     "text": [
      "<class 'pandas.core.frame.DataFrame'>\n",
      "RangeIndex: 40 entries, 0 to 39\n",
      "Data columns (total 10 columns):\n",
      " #   Column    Non-Null Count  Dtype \n",
      "---  ------    --------------  ----- \n",
      " 0   ID        40 non-null     object\n",
      " 1   ALUMNO    40 non-null     object\n",
      " 2   Act       40 non-null     object\n",
      " 3   Pro       40 non-null     object\n",
      " 4   Act       40 non-null     object\n",
      " 5   Pro       40 non-null     object\n",
      " 6   Act       40 non-null     object\n",
      " 7   Pro       40 non-null     object\n",
      " 8   Bitacora  40 non-null     object\n",
      " 9   Promedio  40 non-null     object\n",
      "dtypes: object(10)\n",
      "memory usage: 3.2+ KB\n"
     ]
    }
   ],
   "source": [
    "t2.info()"
   ]
  },
  {
   "cell_type": "code",
   "execution_count": 74,
   "id": "6845e1c7",
   "metadata": {
    "scrolled": true
   },
   "outputs": [
    {
     "data": {
      "text/html": [
       "<div>\n",
       "<style scoped>\n",
       "    .dataframe tbody tr th:only-of-type {\n",
       "        vertical-align: middle;\n",
       "    }\n",
       "\n",
       "    .dataframe tbody tr th {\n",
       "        vertical-align: top;\n",
       "    }\n",
       "\n",
       "    .dataframe thead th {\n",
       "        text-align: right;\n",
       "    }\n",
       "</style>\n",
       "<table border=\"1\" class=\"dataframe\">\n",
       "  <thead>\n",
       "    <tr style=\"text-align: right;\">\n",
       "      <th></th>\n",
       "      <th>ID</th>\n",
       "      <th>ALUMNO</th>\n",
       "      <th>Act</th>\n",
       "      <th>Pro</th>\n",
       "      <th>Act</th>\n",
       "      <th>Pro</th>\n",
       "      <th>Act</th>\n",
       "      <th>Pro</th>\n",
       "      <th>Bitacora</th>\n",
       "      <th>Promedio</th>\n",
       "    </tr>\n",
       "  </thead>\n",
       "  <tbody>\n",
       "    <tr>\n",
       "      <th>count</th>\n",
       "      <td>40</td>\n",
       "      <td>40</td>\n",
       "      <td>40</td>\n",
       "      <td>40</td>\n",
       "      <td>40</td>\n",
       "      <td>40</td>\n",
       "      <td>40</td>\n",
       "      <td>40</td>\n",
       "      <td>40</td>\n",
       "      <td>40</td>\n",
       "    </tr>\n",
       "    <tr>\n",
       "      <th>unique</th>\n",
       "      <td>40</td>\n",
       "      <td>40</td>\n",
       "      <td>1</td>\n",
       "      <td>1</td>\n",
       "      <td>1</td>\n",
       "      <td>1</td>\n",
       "      <td>1</td>\n",
       "      <td>1</td>\n",
       "      <td>1</td>\n",
       "      <td>1</td>\n",
       "    </tr>\n",
       "    <tr>\n",
       "      <th>top</th>\n",
       "      <td>67ca0275</td>\n",
       "      <td>Alumno 272</td>\n",
       "      <td>0</td>\n",
       "      <td>#DIV/0!</td>\n",
       "      <td>0</td>\n",
       "      <td></td>\n",
       "      <td>0</td>\n",
       "      <td></td>\n",
       "      <td>0</td>\n",
       "      <td>#DIV/0!</td>\n",
       "    </tr>\n",
       "    <tr>\n",
       "      <th>freq</th>\n",
       "      <td>1</td>\n",
       "      <td>1</td>\n",
       "      <td>40</td>\n",
       "      <td>40</td>\n",
       "      <td>40</td>\n",
       "      <td>40</td>\n",
       "      <td>40</td>\n",
       "      <td>40</td>\n",
       "      <td>40</td>\n",
       "      <td>40</td>\n",
       "    </tr>\n",
       "  </tbody>\n",
       "</table>\n",
       "</div>"
      ],
      "text/plain": [
       "              ID      ALUMNO Act      Pro Act Pro Act Pro Bitacora Promedio\n",
       "count         40          40  40       40  40  40  40  40       40       40\n",
       "unique        40          40   1        1   1   1   1   1        1        1\n",
       "top     67ca0275  Alumno 272   0  #DIV/0!   0       0            0  #DIV/0!\n",
       "freq           1           1  40       40  40  40  40  40       40       40"
      ]
     },
     "execution_count": 74,
     "metadata": {},
     "output_type": "execute_result"
    }
   ],
   "source": [
    "t2.describe()"
   ]
  },
  {
   "cell_type": "code",
   "execution_count": 75,
   "id": "2b756c22",
   "metadata": {},
   "outputs": [
    {
     "name": "stdout",
     "output_type": "stream",
     "text": [
      "          ID Clave materia                              Materia Semestre\n",
      "0   67pa1001            27                            Geografía        5\n",
      "1   67pa0000            28  Estructura Socioeconómica de México        5\n",
      "2   67pa0001            32                  Calculo diferencial        5\n",
      "3   67pa0002            33                     Administración I        5\n",
      "4   67pa0003            35        Ciencias de la Comunicación I        5\n",
      "5   67pa0004            34               Ciencias de la Salud I        5\n",
      "6   67pa0005   616CFT312S5              Sistemas de Información        5\n",
      "7   67pa0006   616CFT312S6                         Programación        5\n",
      "8   67pa0007            15                      Matemáticas III        3\n",
      "9   67pa0008            16                           Biología I        3\n",
      "10  67pa0009            17                             Física I        3\n",
      "11  67pa0010            18                 Historia de México I        3\n",
      "12  67pa0011            19                         Literatura I        3\n",
      "13  67pa0012            20                           Inglés III        3\n",
      "14  67pa0013   616CFT312S1         Gestión de archivos de texto        3\n",
      "15  67pa0014   616CFT312S2             Hoja de cálculo aplicado        3\n",
      "16  67pa0015             1                        Matemáticas I        1\n",
      "17  93447724             2                            Química I        1\n",
      "18  67pa0017             3                              Ética I        1\n",
      "19  67pa0018             4      Metodología de la Investigación        1\n",
      "20  67pa0019             5     Taller de Lectura y Redacción  I        1\n",
      "21  67pa0020             6                             Inglés I        1\n",
      "22  67pa0021             7                        Informática I        1\n",
      "23  49bece3c            11                             Ingles V        5\n"
     ]
    }
   ],
   "source": [
    "materias= sh.worksheet('Materias')\n",
    "materias = materias.get_all_values()\n",
    "materias= pd.DataFrame(materias[1:], columns=materias[0])\n",
    "\n",
    "print(materias)"
   ]
  },
  {
   "cell_type": "code",
   "execution_count": 76,
   "id": "0a97182d",
   "metadata": {},
   "outputs": [
    {
     "data": {
      "text/plain": [
       "(24, 4)"
      ]
     },
     "execution_count": 76,
     "metadata": {},
     "output_type": "execute_result"
    }
   ],
   "source": [
    "materias.shape"
   ]
  },
  {
   "cell_type": "code",
   "execution_count": 77,
   "id": "5054de98",
   "metadata": {},
   "outputs": [
    {
     "name": "stdout",
     "output_type": "stream",
     "text": [
      "           ID       Matrícula      ALUMNO Grupo  \\\n",
      "0    67ca1343  18401070160034  Alumno 001  1801   \n",
      "1    67a411c9  18401070160044  Alumno 002  1801   \n",
      "2    67ca0001  18401070160055  Alumno 003  1801   \n",
      "3    67ca0002  19401070160002  Alumno 004  1801   \n",
      "4    67ca0003  18401070160060  Alumno 005  1801   \n",
      "..        ...             ...         ...   ...   \n",
      "343  67ca0339  20401070160131  Alumno 344  2003   \n",
      "344  67ca0340  20401070160132  Alumno 345  2003   \n",
      "345  67ca0341  20401070160133  Alumno 346  2003   \n",
      "346  67ca0342  20401070160134  Alumno 347  2003   \n",
      "347  aea411c8  20401070160135  Alumno 348  2003   \n",
      "\n",
      "                                                  Foto      Correo  \\\n",
      "0                                                       correro001   \n",
      "1                                                       correro002   \n",
      "2                                                       correro003   \n",
      "3                                                       correro004   \n",
      "4                                                       correro005   \n",
      "..                                                 ...         ...   \n",
      "343                                                     correro344   \n",
      "344  Alumno_Images/67ca0340.Foto.184823._Track_ed12...  correro345   \n",
      "345             Alumno_Images/67ca0341.Foto.184813.jpg  correro346   \n",
      "346                                                     correro347   \n",
      "347                                                     correro348   \n",
      "\n",
      "    Correo Personal    Telefono Compania Tel Computadora Internet COVIT-19  \\\n",
      "0     vorreo.per001  4000004400     Movistar          No       No            \n",
      "1     vorreo.per002  4000004401                                              \n",
      "2     vorreo.per003  4000004402       telcel          NO       NO            \n",
      "3     vorreo.per004  4000004403                       no       si            \n",
      "4     vorreo.per005  4000004404       telcel          SI       SI            \n",
      "..              ...         ...          ...         ...      ...      ...   \n",
      "343   vorreo.per344  4000004743                                              \n",
      "344   vorreo.per345  4000004744                                              \n",
      "345   vorreo.per346  4000004745                                              \n",
      "346   vorreo.per347  4000004746                                              \n",
      "347   vorreo.per348  4000004747                                              \n",
      "\n",
      "    Padecimientos  Domicilio Ubicación O General                CURP NSS  \\\n",
      "0                  Calle 001                      BEVI031215MASLLNA6       \n",
      "1                  Calle 002                      CESJ021112MASDNNA4       \n",
      "2                  Calle 003                      CERM020306MASRMRA3       \n",
      "3                  Calle 004                      COEC020418HASLSHA1       \n",
      "4                  Calle 005                      LILM030609HASRPGA2       \n",
      "..            ...        ...       ...       ...                 ...  ..   \n",
      "343                Calle 344                   ,  SAMF051029MZSBRRA0       \n",
      "344                Calle 345                   ,  TALM050325MASRPLA4       \n",
      "345                Calle 346                   ,  VALO050604MASLPDA8       \n",
      "346                Calle 347                   ,  VILA040301MASCPLA1       \n",
      "347                Calle 348                      ZUGB030511HDFLRRA3       \n",
      "\n",
      "    Activo  \n",
      "0     TRUE  \n",
      "1     TRUE  \n",
      "2     TRUE  \n",
      "3     TRUE  \n",
      "4     TRUE  \n",
      "..     ...  \n",
      "343   TRUE  \n",
      "344   TRUE  \n",
      "345   TRUE  \n",
      "346   TRUE  \n",
      "347  FALSE  \n",
      "\n",
      "[348 rows x 19 columns]\n"
     ]
    }
   ],
   "source": [
    "alumnos= sh.worksheet('Alumno')\n",
    "alumnos = alumnos.get_all_values()\n",
    "alumnos= pd.DataFrame(alumnos[1:], columns=alumnos[0])\n",
    "\n",
    "print(alumnos)"
   ]
  },
  {
   "cell_type": "code",
   "execution_count": 78,
   "id": "66bae8d7",
   "metadata": {},
   "outputs": [
    {
     "name": "stdout",
     "output_type": "stream",
     "text": [
      "            ID    Alumno   Materia Parcial Actividad Calificación Observación  \\\n",
      "0       815385  41ebb755  49bece3c   Par 1  0f70800c           90               \n",
      "1      9982091  41ebb755  67pa1001   Par 1  f5f22961           90               \n",
      "2      5992904  41ebb755  93447724   Par 1  37a6254f          100               \n",
      "3      5947445  67ca0275  93447724   Par 1  0f70800c          100               \n",
      "4      9632062  67ca0275  93447724   Par 1  f5f22961          100               \n",
      "...        ...       ...       ...     ...       ...          ...         ...   \n",
      "17874  9740853  67ca0067  fc41fa26   Par 3  ced818bb           67               \n",
      "17875   959296  67ca0067  0f23d92f   Par 3  344669df           67               \n",
      "17876  6103214  67ca0067  d24866fe   Par 3  ee11f680           67               \n",
      "17877  1059455  67ca0067  3b2acde6   Par 3  b3c0b988           67               \n",
      "17878  3282609  67ca0067  3c5cde2a   Par 3  c809b9a4           67               \n",
      "\n",
      "           Fecha  \n",
      "0       25 sept.  \n",
      "1         02 oct  \n",
      "2         09 oct  \n",
      "3      25/9/2020  \n",
      "4         02 oct  \n",
      "...          ...  \n",
      "17874     09 dic  \n",
      "17875     09 dic  \n",
      "17876     09 dic  \n",
      "17877     09 dic  \n",
      "17878     09 dic  \n",
      "\n",
      "[17879 rows x 8 columns]\n"
     ]
    }
   ],
   "source": [
    "calificaciones= sh.worksheet('Calificación')\n",
    "calificaciones = calificaciones.get_all_values()\n",
    "calificaciones= pd.DataFrame(calificaciones[1:], columns=calificaciones[0])\n",
    "\n",
    "print(calificaciones)"
   ]
  },
  {
   "cell_type": "code",
   "execution_count": 79,
   "id": "add0a8c7",
   "metadata": {
    "scrolled": true
   },
   "outputs": [
    {
     "name": "stdout",
     "output_type": "stream",
     "text": [
      "         ID_x Clave materia  Materia_x Semestre     ID_y    Alumno Materia_y  \\\n",
      "0    67pa1001            27  Geografía        5  9982091  41ebb755  67pa1001   \n",
      "1    93447724             2  Química I        1  5992904  41ebb755  93447724   \n",
      "2    93447724             2  Química I        1  5947445  67ca0275  93447724   \n",
      "3    93447724             2  Química I        1  9632062  67ca0275  93447724   \n",
      "4    93447724             2  Química I        1  2971958  67ca0275  93447724   \n",
      "..        ...           ...        ...      ...      ...       ...       ...   \n",
      "98   93447724             2  Química I        1  5174191  67ca0306  93447724   \n",
      "99   93447724             2  Química I        1  4252714  67ca0299  93447724   \n",
      "100  93447724             2  Química I        1  1507196  15351a39  93447724   \n",
      "101  93447724             2  Química I        1  1617972  67ca0351  93447724   \n",
      "102  49bece3c            11   Ingles V        5   815385  41ebb755  49bece3c   \n",
      "\n",
      "    Parcial Actividad Calificación Observación      Fecha  \n",
      "0     Par 1  f5f22961           90                 02 oct  \n",
      "1     Par 1  37a6254f          100                 09 oct  \n",
      "2     Par 1  0f70800c          100              25/9/2020  \n",
      "3     Par 1  f5f22961          100                 02 oct  \n",
      "4     Par 1  37a6254f          100                 09 oct  \n",
      "..      ...       ...          ...         ...        ...  \n",
      "98    Par 3  307f7906           86                 09 dic  \n",
      "99    Par 3  307f7906           80                 09 dic  \n",
      "100   Par 3  307f7906          100                 09 dic  \n",
      "101   Par 3  307f7906           65                 09 dic  \n",
      "102   Par 1  0f70800c           90               25 sept.  \n",
      "\n",
      "[103 rows x 12 columns]\n"
     ]
    }
   ],
   "source": [
    "tabla = pd.merge(materias,calificaciones, how=\"inner\", left_on='ID', right_on='Materia')\n",
    "print(tabla)"
   ]
  },
  {
   "cell_type": "code",
   "execution_count": null,
   "id": "38655ed4",
   "metadata": {},
   "outputs": [],
   "source": []
  }
 ],
 "metadata": {
  "kernelspec": {
   "display_name": "Python 3 (ipykernel)",
   "language": "python",
   "name": "python3"
  },
  "language_info": {
   "codemirror_mode": {
    "name": "ipython",
    "version": 3
   },
   "file_extension": ".py",
   "mimetype": "text/x-python",
   "name": "python",
   "nbconvert_exporter": "python",
   "pygments_lexer": "ipython3",
   "version": "3.10.13"
  }
 },
 "nbformat": 4,
 "nbformat_minor": 5
}
